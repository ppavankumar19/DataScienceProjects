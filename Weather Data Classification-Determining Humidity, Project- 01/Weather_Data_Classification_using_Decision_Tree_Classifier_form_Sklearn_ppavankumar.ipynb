{
  "cells": [
    {
      "cell_type": "markdown",
      "metadata": {
        "id": "VpTakXofr_yL"
      },
      "source": [
        "# Weather Data Classification using scikit-learn"
      ]
    },
    {
      "cell_type": "markdown",
      "metadata": {
        "id": "mi1_G1T8r_yL"
      },
      "source": [
        "<p style=\"font-family: Arial; font-size:1.75em;color:blue; font-style:bold\"><br>\n",
        "\n",
        "Importing the Necessary Libraries<br></p>"
      ]
    },
    {
      "cell_type": "markdown",
      "metadata": {
        "id": "Ikj360jLr_yM"
      },
      "source": [
        "First we import the necessary libraries of the python for demostration of the Decision Tree Classifier"
      ]
    },
    {
      "cell_type": "code",
      "execution_count": null,
      "metadata": {
        "id": "7qKHtSqxr_yM"
      },
      "outputs": [],
      "source": [
        "import pandas as pd\n",
        "from sklearn.metrics import accuracy_score\n",
        "from sklearn.model_selection import train_test_split\n",
        "from sklearn.tree import DecisionTreeClassifier"
      ]
    },
    {
      "cell_type": "markdown",
      "metadata": {
        "id": "xkgXMBTrr_yM"
      },
      "source": [
        "Read the data of the weather from the csv file using read_csv function of pandas dataframe"
      ]
    },
    {
      "cell_type": "code",
      "execution_count": null,
      "metadata": {
        "id": "YmPgyu8Er_yM"
      },
      "outputs": [],
      "source": [
        "data = pd.read_csv('./daily_weather.csv')"
      ]
    },
    {
      "cell_type": "markdown",
      "metadata": {
        "id": "qKVD_STjr_yM"
      },
      "source": [
        "<p style=\"font-family: Arial; font-size:1.75em;color:blue; font-style:bold\">Daily Weather Data Description</p>\n",
        "<br>\n",
        "The file **daily_weather.csv** is a comma-separated file that contains weather data.  This data comes from a weather station located in San Diego, California.  The weather station is equipped with sensors that capture weather-related measurements such as air temperature, air pressure, and relative humidity.  Data was collected for a period of three years, from September 2011 to September 2014, to ensure that sufficient data for different seasons and weather conditions is captured.<br><br>\n",
        "Let's now check all the columns in the data."
      ]
    },
    {
      "cell_type": "markdown",
      "metadata": {
        "id": "hGStLh6Zr_yM"
      },
      "source": [
        "Know about various columns in the dataset."
      ]
    },
    {
      "cell_type": "code",
      "execution_count": null,
      "metadata": {
        "colab": {
          "base_uri": "https://localhost:8080/"
        },
        "id": "N-luyt9sr_yN",
        "outputId": "0fc7d0a2-ca2f-41a7-e01d-9b22aa19b789"
      },
      "outputs": [
        {
          "output_type": "execute_result",
          "data": {
            "text/plain": [
              "Index(['number', 'air_pressure_9am', 'air_temp_9am', 'avg_wind_direction_9am',\n",
              "       'avg_wind_speed_9am', 'max_wind_direction_9am', 'max_wind_speed_9am',\n",
              "       'rain_accumulation_9am', 'rain_duration_9am', 'relative_humidity_9am',\n",
              "       'relative_humidity_3pm', 'Unnamed: 11'],\n",
              "      dtype='object')"
            ]
          },
          "metadata": {},
          "execution_count": 5
        }
      ],
      "source": [
        "data.columns"
      ]
    },
    {
      "cell_type": "code",
      "execution_count": null,
      "metadata": {
        "colab": {
          "base_uri": "https://localhost:8080/",
          "height": 243
        },
        "id": "ZVLYYjG1r_yN",
        "outputId": "d57d568e-52c9-42dd-d28e-c7f5d5bb63ff"
      },
      "outputs": [
        {
          "output_type": "execute_result",
          "data": {
            "text/plain": [
              "   number  air_pressure_9am  air_temp_9am  avg_wind_direction_9am  \\\n",
              "0       0        918.060000     74.822000              271.100000   \n",
              "1       1        917.347688     71.403843              101.935179   \n",
              "2       2        923.040000     60.638000               51.000000   \n",
              "3       3        920.502751     70.138895              198.832133   \n",
              "4       4        921.160000     44.294000              277.800000   \n",
              "\n",
              "   avg_wind_speed_9am  max_wind_direction_9am  max_wind_speed_9am  \\\n",
              "0            2.080354              295.400000            2.863283   \n",
              "1            2.443009              140.471549            3.533324   \n",
              "2           17.067852               63.700000           22.100967   \n",
              "3            4.337363              211.203341            5.190045   \n",
              "4            1.856660              136.500000            2.863283   \n",
              "\n",
              "   rain_accumulation_9am  rain_duration_9am  relative_humidity_9am  \\\n",
              "0                    0.0                0.0              42.420000   \n",
              "1                    0.0                0.0              24.328697   \n",
              "2                    0.0               20.0               8.900000   \n",
              "3                    0.0                0.0              12.189102   \n",
              "4                    8.9            14730.0              92.410000   \n",
              "\n",
              "   relative_humidity_3pm  Unnamed: 11  \n",
              "0              36.160000          NaN  \n",
              "1              19.426597          NaN  \n",
              "2              14.460000          NaN  \n",
              "3              12.742547          NaN  \n",
              "4              76.740000          NaN  "
            ],
            "text/html": [
              "\n",
              "  <div id=\"df-a867d711-4bac-4f3c-8533-95614d8b209b\" class=\"colab-df-container\">\n",
              "    <div>\n",
              "<style scoped>\n",
              "    .dataframe tbody tr th:only-of-type {\n",
              "        vertical-align: middle;\n",
              "    }\n",
              "\n",
              "    .dataframe tbody tr th {\n",
              "        vertical-align: top;\n",
              "    }\n",
              "\n",
              "    .dataframe thead th {\n",
              "        text-align: right;\n",
              "    }\n",
              "</style>\n",
              "<table border=\"1\" class=\"dataframe\">\n",
              "  <thead>\n",
              "    <tr style=\"text-align: right;\">\n",
              "      <th></th>\n",
              "      <th>number</th>\n",
              "      <th>air_pressure_9am</th>\n",
              "      <th>air_temp_9am</th>\n",
              "      <th>avg_wind_direction_9am</th>\n",
              "      <th>avg_wind_speed_9am</th>\n",
              "      <th>max_wind_direction_9am</th>\n",
              "      <th>max_wind_speed_9am</th>\n",
              "      <th>rain_accumulation_9am</th>\n",
              "      <th>rain_duration_9am</th>\n",
              "      <th>relative_humidity_9am</th>\n",
              "      <th>relative_humidity_3pm</th>\n",
              "      <th>Unnamed: 11</th>\n",
              "    </tr>\n",
              "  </thead>\n",
              "  <tbody>\n",
              "    <tr>\n",
              "      <th>0</th>\n",
              "      <td>0</td>\n",
              "      <td>918.060000</td>\n",
              "      <td>74.822000</td>\n",
              "      <td>271.100000</td>\n",
              "      <td>2.080354</td>\n",
              "      <td>295.400000</td>\n",
              "      <td>2.863283</td>\n",
              "      <td>0.0</td>\n",
              "      <td>0.0</td>\n",
              "      <td>42.420000</td>\n",
              "      <td>36.160000</td>\n",
              "      <td>NaN</td>\n",
              "    </tr>\n",
              "    <tr>\n",
              "      <th>1</th>\n",
              "      <td>1</td>\n",
              "      <td>917.347688</td>\n",
              "      <td>71.403843</td>\n",
              "      <td>101.935179</td>\n",
              "      <td>2.443009</td>\n",
              "      <td>140.471549</td>\n",
              "      <td>3.533324</td>\n",
              "      <td>0.0</td>\n",
              "      <td>0.0</td>\n",
              "      <td>24.328697</td>\n",
              "      <td>19.426597</td>\n",
              "      <td>NaN</td>\n",
              "    </tr>\n",
              "    <tr>\n",
              "      <th>2</th>\n",
              "      <td>2</td>\n",
              "      <td>923.040000</td>\n",
              "      <td>60.638000</td>\n",
              "      <td>51.000000</td>\n",
              "      <td>17.067852</td>\n",
              "      <td>63.700000</td>\n",
              "      <td>22.100967</td>\n",
              "      <td>0.0</td>\n",
              "      <td>20.0</td>\n",
              "      <td>8.900000</td>\n",
              "      <td>14.460000</td>\n",
              "      <td>NaN</td>\n",
              "    </tr>\n",
              "    <tr>\n",
              "      <th>3</th>\n",
              "      <td>3</td>\n",
              "      <td>920.502751</td>\n",
              "      <td>70.138895</td>\n",
              "      <td>198.832133</td>\n",
              "      <td>4.337363</td>\n",
              "      <td>211.203341</td>\n",
              "      <td>5.190045</td>\n",
              "      <td>0.0</td>\n",
              "      <td>0.0</td>\n",
              "      <td>12.189102</td>\n",
              "      <td>12.742547</td>\n",
              "      <td>NaN</td>\n",
              "    </tr>\n",
              "    <tr>\n",
              "      <th>4</th>\n",
              "      <td>4</td>\n",
              "      <td>921.160000</td>\n",
              "      <td>44.294000</td>\n",
              "      <td>277.800000</td>\n",
              "      <td>1.856660</td>\n",
              "      <td>136.500000</td>\n",
              "      <td>2.863283</td>\n",
              "      <td>8.9</td>\n",
              "      <td>14730.0</td>\n",
              "      <td>92.410000</td>\n",
              "      <td>76.740000</td>\n",
              "      <td>NaN</td>\n",
              "    </tr>\n",
              "  </tbody>\n",
              "</table>\n",
              "</div>\n",
              "    <div class=\"colab-df-buttons\">\n",
              "\n",
              "  <div class=\"colab-df-container\">\n",
              "    <button class=\"colab-df-convert\" onclick=\"convertToInteractive('df-a867d711-4bac-4f3c-8533-95614d8b209b')\"\n",
              "            title=\"Convert this dataframe to an interactive table.\"\n",
              "            style=\"display:none;\">\n",
              "\n",
              "  <svg xmlns=\"http://www.w3.org/2000/svg\" height=\"24px\" viewBox=\"0 -960 960 960\">\n",
              "    <path d=\"M120-120v-720h720v720H120Zm60-500h600v-160H180v160Zm220 220h160v-160H400v160Zm0 220h160v-160H400v160ZM180-400h160v-160H180v160Zm440 0h160v-160H620v160ZM180-180h160v-160H180v160Zm440 0h160v-160H620v160Z\"/>\n",
              "  </svg>\n",
              "    </button>\n",
              "\n",
              "  <style>\n",
              "    .colab-df-container {\n",
              "      display:flex;\n",
              "      gap: 12px;\n",
              "    }\n",
              "\n",
              "    .colab-df-convert {\n",
              "      background-color: #E8F0FE;\n",
              "      border: none;\n",
              "      border-radius: 50%;\n",
              "      cursor: pointer;\n",
              "      display: none;\n",
              "      fill: #1967D2;\n",
              "      height: 32px;\n",
              "      padding: 0 0 0 0;\n",
              "      width: 32px;\n",
              "    }\n",
              "\n",
              "    .colab-df-convert:hover {\n",
              "      background-color: #E2EBFA;\n",
              "      box-shadow: 0px 1px 2px rgba(60, 64, 67, 0.3), 0px 1px 3px 1px rgba(60, 64, 67, 0.15);\n",
              "      fill: #174EA6;\n",
              "    }\n",
              "\n",
              "    .colab-df-buttons div {\n",
              "      margin-bottom: 4px;\n",
              "    }\n",
              "\n",
              "    [theme=dark] .colab-df-convert {\n",
              "      background-color: #3B4455;\n",
              "      fill: #D2E3FC;\n",
              "    }\n",
              "\n",
              "    [theme=dark] .colab-df-convert:hover {\n",
              "      background-color: #434B5C;\n",
              "      box-shadow: 0px 1px 3px 1px rgba(0, 0, 0, 0.15);\n",
              "      filter: drop-shadow(0px 1px 2px rgba(0, 0, 0, 0.3));\n",
              "      fill: #FFFFFF;\n",
              "    }\n",
              "  </style>\n",
              "\n",
              "    <script>\n",
              "      const buttonEl =\n",
              "        document.querySelector('#df-a867d711-4bac-4f3c-8533-95614d8b209b button.colab-df-convert');\n",
              "      buttonEl.style.display =\n",
              "        google.colab.kernel.accessAllowed ? 'block' : 'none';\n",
              "\n",
              "      async function convertToInteractive(key) {\n",
              "        const element = document.querySelector('#df-a867d711-4bac-4f3c-8533-95614d8b209b');\n",
              "        const dataTable =\n",
              "          await google.colab.kernel.invokeFunction('convertToInteractive',\n",
              "                                                    [key], {});\n",
              "        if (!dataTable) return;\n",
              "\n",
              "        const docLinkHtml = 'Like what you see? Visit the ' +\n",
              "          '<a target=\"_blank\" href=https://colab.research.google.com/notebooks/data_table.ipynb>data table notebook</a>'\n",
              "          + ' to learn more about interactive tables.';\n",
              "        element.innerHTML = '';\n",
              "        dataTable['output_type'] = 'display_data';\n",
              "        await google.colab.output.renderOutput(dataTable, element);\n",
              "        const docLink = document.createElement('div');\n",
              "        docLink.innerHTML = docLinkHtml;\n",
              "        element.appendChild(docLink);\n",
              "      }\n",
              "    </script>\n",
              "  </div>\n",
              "\n",
              "\n",
              "<div id=\"df-3564db99-e724-4127-b219-4fc217645142\">\n",
              "  <button class=\"colab-df-quickchart\" onclick=\"quickchart('df-3564db99-e724-4127-b219-4fc217645142')\"\n",
              "            title=\"Suggest charts\"\n",
              "            style=\"display:none;\">\n",
              "\n",
              "<svg xmlns=\"http://www.w3.org/2000/svg\" height=\"24px\"viewBox=\"0 0 24 24\"\n",
              "     width=\"24px\">\n",
              "    <g>\n",
              "        <path d=\"M19 3H5c-1.1 0-2 .9-2 2v14c0 1.1.9 2 2 2h14c1.1 0 2-.9 2-2V5c0-1.1-.9-2-2-2zM9 17H7v-7h2v7zm4 0h-2V7h2v10zm4 0h-2v-4h2v4z\"/>\n",
              "    </g>\n",
              "</svg>\n",
              "  </button>\n",
              "\n",
              "<style>\n",
              "  .colab-df-quickchart {\n",
              "      --bg-color: #E8F0FE;\n",
              "      --fill-color: #1967D2;\n",
              "      --hover-bg-color: #E2EBFA;\n",
              "      --hover-fill-color: #174EA6;\n",
              "      --disabled-fill-color: #AAA;\n",
              "      --disabled-bg-color: #DDD;\n",
              "  }\n",
              "\n",
              "  [theme=dark] .colab-df-quickchart {\n",
              "      --bg-color: #3B4455;\n",
              "      --fill-color: #D2E3FC;\n",
              "      --hover-bg-color: #434B5C;\n",
              "      --hover-fill-color: #FFFFFF;\n",
              "      --disabled-bg-color: #3B4455;\n",
              "      --disabled-fill-color: #666;\n",
              "  }\n",
              "\n",
              "  .colab-df-quickchart {\n",
              "    background-color: var(--bg-color);\n",
              "    border: none;\n",
              "    border-radius: 50%;\n",
              "    cursor: pointer;\n",
              "    display: none;\n",
              "    fill: var(--fill-color);\n",
              "    height: 32px;\n",
              "    padding: 0;\n",
              "    width: 32px;\n",
              "  }\n",
              "\n",
              "  .colab-df-quickchart:hover {\n",
              "    background-color: var(--hover-bg-color);\n",
              "    box-shadow: 0 1px 2px rgba(60, 64, 67, 0.3), 0 1px 3px 1px rgba(60, 64, 67, 0.15);\n",
              "    fill: var(--button-hover-fill-color);\n",
              "  }\n",
              "\n",
              "  .colab-df-quickchart-complete:disabled,\n",
              "  .colab-df-quickchart-complete:disabled:hover {\n",
              "    background-color: var(--disabled-bg-color);\n",
              "    fill: var(--disabled-fill-color);\n",
              "    box-shadow: none;\n",
              "  }\n",
              "\n",
              "  .colab-df-spinner {\n",
              "    border: 2px solid var(--fill-color);\n",
              "    border-color: transparent;\n",
              "    border-bottom-color: var(--fill-color);\n",
              "    animation:\n",
              "      spin 1s steps(1) infinite;\n",
              "  }\n",
              "\n",
              "  @keyframes spin {\n",
              "    0% {\n",
              "      border-color: transparent;\n",
              "      border-bottom-color: var(--fill-color);\n",
              "      border-left-color: var(--fill-color);\n",
              "    }\n",
              "    20% {\n",
              "      border-color: transparent;\n",
              "      border-left-color: var(--fill-color);\n",
              "      border-top-color: var(--fill-color);\n",
              "    }\n",
              "    30% {\n",
              "      border-color: transparent;\n",
              "      border-left-color: var(--fill-color);\n",
              "      border-top-color: var(--fill-color);\n",
              "      border-right-color: var(--fill-color);\n",
              "    }\n",
              "    40% {\n",
              "      border-color: transparent;\n",
              "      border-right-color: var(--fill-color);\n",
              "      border-top-color: var(--fill-color);\n",
              "    }\n",
              "    60% {\n",
              "      border-color: transparent;\n",
              "      border-right-color: var(--fill-color);\n",
              "    }\n",
              "    80% {\n",
              "      border-color: transparent;\n",
              "      border-right-color: var(--fill-color);\n",
              "      border-bottom-color: var(--fill-color);\n",
              "    }\n",
              "    90% {\n",
              "      border-color: transparent;\n",
              "      border-bottom-color: var(--fill-color);\n",
              "    }\n",
              "  }\n",
              "</style>\n",
              "\n",
              "  <script>\n",
              "    async function quickchart(key) {\n",
              "      const quickchartButtonEl =\n",
              "        document.querySelector('#' + key + ' button');\n",
              "      quickchartButtonEl.disabled = true;  // To prevent multiple clicks.\n",
              "      quickchartButtonEl.classList.add('colab-df-spinner');\n",
              "      try {\n",
              "        const charts = await google.colab.kernel.invokeFunction(\n",
              "            'suggestCharts', [key], {});\n",
              "      } catch (error) {\n",
              "        console.error('Error during call to suggestCharts:', error);\n",
              "      }\n",
              "      quickchartButtonEl.classList.remove('colab-df-spinner');\n",
              "      quickchartButtonEl.classList.add('colab-df-quickchart-complete');\n",
              "    }\n",
              "    (() => {\n",
              "      let quickchartButtonEl =\n",
              "        document.querySelector('#df-3564db99-e724-4127-b219-4fc217645142 button');\n",
              "      quickchartButtonEl.style.display =\n",
              "        google.colab.kernel.accessAllowed ? 'block' : 'none';\n",
              "    })();\n",
              "  </script>\n",
              "</div>\n",
              "\n",
              "    </div>\n",
              "  </div>\n"
            ],
            "application/vnd.google.colaboratory.intrinsic+json": {
              "type": "dataframe",
              "variable_name": "data",
              "summary": "{\n  \"name\": \"data\",\n  \"rows\": 1095,\n  \"fields\": [\n    {\n      \"column\": \"number\",\n      \"properties\": {\n        \"dtype\": \"number\",\n        \"std\": 316,\n        \"min\": 0,\n        \"max\": 1094,\n        \"num_unique_values\": 1095,\n        \"samples\": [\n          533,\n          139,\n          88\n        ],\n        \"semantic_type\": \"\",\n        \"description\": \"\"\n      }\n    },\n    {\n      \"column\": \"air_pressure_9am\",\n      \"properties\": {\n        \"dtype\": \"number\",\n        \"std\": 3.18416118142283,\n        \"min\": 907.99,\n        \"max\": 929.32,\n        \"num_unique_values\": 852,\n        \"samples\": [\n          925.5882714,\n          922.6394891,\n          918.14\n        ],\n        \"semantic_type\": \"\",\n        \"description\": \"\"\n      }\n    },\n    {\n      \"column\": \"air_temp_9am\",\n      \"properties\": {\n        \"dtype\": \"number\",\n        \"std\": 11.175514003266807,\n        \"min\": 36.752,\n        \"max\": 98.906,\n        \"num_unique_values\": 980,\n        \"samples\": [\n          73.4,\n          82.4,\n          50.00212297\n        ],\n        \"semantic_type\": \"\",\n        \"description\": \"\"\n      }\n    },\n    {\n      \"column\": \"avg_wind_direction_9am\",\n      \"properties\": {\n        \"dtype\": \"number\",\n        \"std\": 69.13785928883634,\n        \"min\": 15.5,\n        \"max\": 343.4,\n        \"num_unique_values\": 942,\n        \"samples\": [\n          166.8471586,\n          185.3958612,\n          123.9885434\n        ],\n        \"semantic_type\": \"\",\n        \"description\": \"\"\n      }\n    },\n    {\n      \"column\": \"avg_wind_speed_9am\",\n      \"properties\": {\n        \"dtype\": \"number\",\n        \"std\": 4.552813465529017,\n        \"min\": 0.6934514,\n        \"max\": 23.5549782,\n        \"num_unique_values\": 723,\n        \"samples\": [\n          3.4448876,\n          8.3661556,\n          5.3910254\n        ],\n        \"semantic_type\": \"\",\n        \"description\": \"\"\n      }\n    },\n    {\n      \"column\": \"max_wind_direction_9am\",\n      \"properties\": {\n        \"dtype\": \"number\",\n        \"std\": 67.23801294593561,\n        \"min\": 28.9,\n        \"max\": 312.2,\n        \"num_unique_values\": 943,\n        \"samples\": [\n          68.0,\n          190.1,\n          77.4913211\n        ],\n        \"semantic_type\": \"\",\n        \"description\": \"\"\n      }\n    },\n    {\n      \"column\": \"max_wind_speed_9am\",\n      \"properties\": {\n        \"dtype\": \"number\",\n        \"std\": 5.598209170789137,\n        \"min\": 1.1855782,\n        \"max\": 29.8407796,\n        \"num_unique_values\": 738,\n        \"samples\": [\n          11.73543121,\n          6.822667,\n          1.988785063\n        ],\n        \"semantic_type\": \"\",\n        \"description\": \"\"\n      }\n    },\n    {\n      \"column\": \"rain_accumulation_9am\",\n      \"properties\": {\n        \"dtype\": \"number\",\n        \"std\": 1.5939521253569486,\n        \"min\": 0.0,\n        \"max\": 24.02,\n        \"num_unique_values\": 82,\n        \"samples\": [\n          0.510196145,\n          0.0,\n          24.02\n        ],\n        \"semantic_type\": \"\",\n        \"description\": \"\"\n      }\n    },\n    {\n      \"column\": \"rain_duration_9am\",\n      \"properties\": {\n        \"dtype\": \"number\",\n        \"std\": 1598.0787786596147,\n        \"min\": 0.0,\n        \"max\": 17704.0,\n        \"num_unique_values\": 142,\n        \"samples\": [\n          15800.0,\n          460.0,\n          2230.0\n        ],\n        \"semantic_type\": \"\",\n        \"description\": \"\"\n      }\n    },\n    {\n      \"column\": \"relative_humidity_9am\",\n      \"properties\": {\n        \"dtype\": \"number\",\n        \"std\": 25.472066802254183,\n        \"min\": 6.09,\n        \"max\": 92.62,\n        \"num_unique_values\": 1052,\n        \"samples\": [\n          91.69,\n          80.6,\n          19.01460029\n        ],\n        \"semantic_type\": \"\",\n        \"description\": \"\"\n      }\n    },\n    {\n      \"column\": \"relative_humidity_3pm\",\n      \"properties\": {\n        \"dtype\": \"number\",\n        \"std\": 22.524079453607285,\n        \"min\": 5.3,\n        \"max\": 92.25,\n        \"num_unique_values\": 1054,\n        \"samples\": [\n          21.79370897,\n          33.19,\n          15.94\n        ],\n        \"semantic_type\": \"\",\n        \"description\": \"\"\n      }\n    },\n    {\n      \"column\": \"Unnamed: 11\",\n      \"properties\": {\n        \"dtype\": \"number\",\n        \"std\": null,\n        \"min\": null,\n        \"max\": null,\n        \"num_unique_values\": 0,\n        \"samples\": [],\n        \"semantic_type\": \"\",\n        \"description\": \"\"\n      }\n    }\n  ]\n}"
            }
          },
          "metadata": {},
          "execution_count": 6
        }
      ],
      "source": [
        "data.head()"
      ]
    },
    {
      "cell_type": "markdown",
      "metadata": {
        "id": "-J4CLxdxr_yN"
      },
      "source": [
        "Checking is there exists null values in the dataset or not"
      ]
    },
    {
      "cell_type": "code",
      "execution_count": null,
      "metadata": {
        "colab": {
          "base_uri": "https://localhost:8080/",
          "height": 243
        },
        "id": "EMVRH2Qqr_yN",
        "outputId": "dff1f8b7-dde4-42ec-8238-20aec1b354f3"
      },
      "outputs": [
        {
          "output_type": "execute_result",
          "data": {
            "text/plain": [
              "   number  air_pressure_9am  air_temp_9am  avg_wind_direction_9am  \\\n",
              "0       0        918.060000     74.822000              271.100000   \n",
              "1       1        917.347688     71.403843              101.935179   \n",
              "2       2        923.040000     60.638000               51.000000   \n",
              "3       3        920.502751     70.138895              198.832133   \n",
              "4       4        921.160000     44.294000              277.800000   \n",
              "\n",
              "   avg_wind_speed_9am  max_wind_direction_9am  max_wind_speed_9am  \\\n",
              "0            2.080354              295.400000            2.863283   \n",
              "1            2.443009              140.471549            3.533324   \n",
              "2           17.067852               63.700000           22.100967   \n",
              "3            4.337363              211.203341            5.190045   \n",
              "4            1.856660              136.500000            2.863283   \n",
              "\n",
              "   rain_accumulation_9am  rain_duration_9am  relative_humidity_9am  \\\n",
              "0                    0.0                0.0              42.420000   \n",
              "1                    0.0                0.0              24.328697   \n",
              "2                    0.0               20.0               8.900000   \n",
              "3                    0.0                0.0              12.189102   \n",
              "4                    8.9            14730.0              92.410000   \n",
              "\n",
              "   relative_humidity_3pm  Unnamed: 11  \n",
              "0              36.160000          NaN  \n",
              "1              19.426597          NaN  \n",
              "2              14.460000          NaN  \n",
              "3              12.742547          NaN  \n",
              "4              76.740000          NaN  "
            ],
            "text/html": [
              "\n",
              "  <div id=\"df-7d10a0dd-fc69-4b2f-bba9-12a8be631467\" class=\"colab-df-container\">\n",
              "    <div>\n",
              "<style scoped>\n",
              "    .dataframe tbody tr th:only-of-type {\n",
              "        vertical-align: middle;\n",
              "    }\n",
              "\n",
              "    .dataframe tbody tr th {\n",
              "        vertical-align: top;\n",
              "    }\n",
              "\n",
              "    .dataframe thead th {\n",
              "        text-align: right;\n",
              "    }\n",
              "</style>\n",
              "<table border=\"1\" class=\"dataframe\">\n",
              "  <thead>\n",
              "    <tr style=\"text-align: right;\">\n",
              "      <th></th>\n",
              "      <th>number</th>\n",
              "      <th>air_pressure_9am</th>\n",
              "      <th>air_temp_9am</th>\n",
              "      <th>avg_wind_direction_9am</th>\n",
              "      <th>avg_wind_speed_9am</th>\n",
              "      <th>max_wind_direction_9am</th>\n",
              "      <th>max_wind_speed_9am</th>\n",
              "      <th>rain_accumulation_9am</th>\n",
              "      <th>rain_duration_9am</th>\n",
              "      <th>relative_humidity_9am</th>\n",
              "      <th>relative_humidity_3pm</th>\n",
              "      <th>Unnamed: 11</th>\n",
              "    </tr>\n",
              "  </thead>\n",
              "  <tbody>\n",
              "    <tr>\n",
              "      <th>0</th>\n",
              "      <td>0</td>\n",
              "      <td>918.060000</td>\n",
              "      <td>74.822000</td>\n",
              "      <td>271.100000</td>\n",
              "      <td>2.080354</td>\n",
              "      <td>295.400000</td>\n",
              "      <td>2.863283</td>\n",
              "      <td>0.0</td>\n",
              "      <td>0.0</td>\n",
              "      <td>42.420000</td>\n",
              "      <td>36.160000</td>\n",
              "      <td>NaN</td>\n",
              "    </tr>\n",
              "    <tr>\n",
              "      <th>1</th>\n",
              "      <td>1</td>\n",
              "      <td>917.347688</td>\n",
              "      <td>71.403843</td>\n",
              "      <td>101.935179</td>\n",
              "      <td>2.443009</td>\n",
              "      <td>140.471549</td>\n",
              "      <td>3.533324</td>\n",
              "      <td>0.0</td>\n",
              "      <td>0.0</td>\n",
              "      <td>24.328697</td>\n",
              "      <td>19.426597</td>\n",
              "      <td>NaN</td>\n",
              "    </tr>\n",
              "    <tr>\n",
              "      <th>2</th>\n",
              "      <td>2</td>\n",
              "      <td>923.040000</td>\n",
              "      <td>60.638000</td>\n",
              "      <td>51.000000</td>\n",
              "      <td>17.067852</td>\n",
              "      <td>63.700000</td>\n",
              "      <td>22.100967</td>\n",
              "      <td>0.0</td>\n",
              "      <td>20.0</td>\n",
              "      <td>8.900000</td>\n",
              "      <td>14.460000</td>\n",
              "      <td>NaN</td>\n",
              "    </tr>\n",
              "    <tr>\n",
              "      <th>3</th>\n",
              "      <td>3</td>\n",
              "      <td>920.502751</td>\n",
              "      <td>70.138895</td>\n",
              "      <td>198.832133</td>\n",
              "      <td>4.337363</td>\n",
              "      <td>211.203341</td>\n",
              "      <td>5.190045</td>\n",
              "      <td>0.0</td>\n",
              "      <td>0.0</td>\n",
              "      <td>12.189102</td>\n",
              "      <td>12.742547</td>\n",
              "      <td>NaN</td>\n",
              "    </tr>\n",
              "    <tr>\n",
              "      <th>4</th>\n",
              "      <td>4</td>\n",
              "      <td>921.160000</td>\n",
              "      <td>44.294000</td>\n",
              "      <td>277.800000</td>\n",
              "      <td>1.856660</td>\n",
              "      <td>136.500000</td>\n",
              "      <td>2.863283</td>\n",
              "      <td>8.9</td>\n",
              "      <td>14730.0</td>\n",
              "      <td>92.410000</td>\n",
              "      <td>76.740000</td>\n",
              "      <td>NaN</td>\n",
              "    </tr>\n",
              "  </tbody>\n",
              "</table>\n",
              "</div>\n",
              "    <div class=\"colab-df-buttons\">\n",
              "\n",
              "  <div class=\"colab-df-container\">\n",
              "    <button class=\"colab-df-convert\" onclick=\"convertToInteractive('df-7d10a0dd-fc69-4b2f-bba9-12a8be631467')\"\n",
              "            title=\"Convert this dataframe to an interactive table.\"\n",
              "            style=\"display:none;\">\n",
              "\n",
              "  <svg xmlns=\"http://www.w3.org/2000/svg\" height=\"24px\" viewBox=\"0 -960 960 960\">\n",
              "    <path d=\"M120-120v-720h720v720H120Zm60-500h600v-160H180v160Zm220 220h160v-160H400v160Zm0 220h160v-160H400v160ZM180-400h160v-160H180v160Zm440 0h160v-160H620v160ZM180-180h160v-160H180v160Zm440 0h160v-160H620v160Z\"/>\n",
              "  </svg>\n",
              "    </button>\n",
              "\n",
              "  <style>\n",
              "    .colab-df-container {\n",
              "      display:flex;\n",
              "      gap: 12px;\n",
              "    }\n",
              "\n",
              "    .colab-df-convert {\n",
              "      background-color: #E8F0FE;\n",
              "      border: none;\n",
              "      border-radius: 50%;\n",
              "      cursor: pointer;\n",
              "      display: none;\n",
              "      fill: #1967D2;\n",
              "      height: 32px;\n",
              "      padding: 0 0 0 0;\n",
              "      width: 32px;\n",
              "    }\n",
              "\n",
              "    .colab-df-convert:hover {\n",
              "      background-color: #E2EBFA;\n",
              "      box-shadow: 0px 1px 2px rgba(60, 64, 67, 0.3), 0px 1px 3px 1px rgba(60, 64, 67, 0.15);\n",
              "      fill: #174EA6;\n",
              "    }\n",
              "\n",
              "    .colab-df-buttons div {\n",
              "      margin-bottom: 4px;\n",
              "    }\n",
              "\n",
              "    [theme=dark] .colab-df-convert {\n",
              "      background-color: #3B4455;\n",
              "      fill: #D2E3FC;\n",
              "    }\n",
              "\n",
              "    [theme=dark] .colab-df-convert:hover {\n",
              "      background-color: #434B5C;\n",
              "      box-shadow: 0px 1px 3px 1px rgba(0, 0, 0, 0.15);\n",
              "      filter: drop-shadow(0px 1px 2px rgba(0, 0, 0, 0.3));\n",
              "      fill: #FFFFFF;\n",
              "    }\n",
              "  </style>\n",
              "\n",
              "    <script>\n",
              "      const buttonEl =\n",
              "        document.querySelector('#df-7d10a0dd-fc69-4b2f-bba9-12a8be631467 button.colab-df-convert');\n",
              "      buttonEl.style.display =\n",
              "        google.colab.kernel.accessAllowed ? 'block' : 'none';\n",
              "\n",
              "      async function convertToInteractive(key) {\n",
              "        const element = document.querySelector('#df-7d10a0dd-fc69-4b2f-bba9-12a8be631467');\n",
              "        const dataTable =\n",
              "          await google.colab.kernel.invokeFunction('convertToInteractive',\n",
              "                                                    [key], {});\n",
              "        if (!dataTable) return;\n",
              "\n",
              "        const docLinkHtml = 'Like what you see? Visit the ' +\n",
              "          '<a target=\"_blank\" href=https://colab.research.google.com/notebooks/data_table.ipynb>data table notebook</a>'\n",
              "          + ' to learn more about interactive tables.';\n",
              "        element.innerHTML = '';\n",
              "        dataTable['output_type'] = 'display_data';\n",
              "        await google.colab.output.renderOutput(dataTable, element);\n",
              "        const docLink = document.createElement('div');\n",
              "        docLink.innerHTML = docLinkHtml;\n",
              "        element.appendChild(docLink);\n",
              "      }\n",
              "    </script>\n",
              "  </div>\n",
              "\n",
              "\n",
              "<div id=\"df-39de7c53-b389-4982-ba3a-c44b23210c2b\">\n",
              "  <button class=\"colab-df-quickchart\" onclick=\"quickchart('df-39de7c53-b389-4982-ba3a-c44b23210c2b')\"\n",
              "            title=\"Suggest charts\"\n",
              "            style=\"display:none;\">\n",
              "\n",
              "<svg xmlns=\"http://www.w3.org/2000/svg\" height=\"24px\"viewBox=\"0 0 24 24\"\n",
              "     width=\"24px\">\n",
              "    <g>\n",
              "        <path d=\"M19 3H5c-1.1 0-2 .9-2 2v14c0 1.1.9 2 2 2h14c1.1 0 2-.9 2-2V5c0-1.1-.9-2-2-2zM9 17H7v-7h2v7zm4 0h-2V7h2v10zm4 0h-2v-4h2v4z\"/>\n",
              "    </g>\n",
              "</svg>\n",
              "  </button>\n",
              "\n",
              "<style>\n",
              "  .colab-df-quickchart {\n",
              "      --bg-color: #E8F0FE;\n",
              "      --fill-color: #1967D2;\n",
              "      --hover-bg-color: #E2EBFA;\n",
              "      --hover-fill-color: #174EA6;\n",
              "      --disabled-fill-color: #AAA;\n",
              "      --disabled-bg-color: #DDD;\n",
              "  }\n",
              "\n",
              "  [theme=dark] .colab-df-quickchart {\n",
              "      --bg-color: #3B4455;\n",
              "      --fill-color: #D2E3FC;\n",
              "      --hover-bg-color: #434B5C;\n",
              "      --hover-fill-color: #FFFFFF;\n",
              "      --disabled-bg-color: #3B4455;\n",
              "      --disabled-fill-color: #666;\n",
              "  }\n",
              "\n",
              "  .colab-df-quickchart {\n",
              "    background-color: var(--bg-color);\n",
              "    border: none;\n",
              "    border-radius: 50%;\n",
              "    cursor: pointer;\n",
              "    display: none;\n",
              "    fill: var(--fill-color);\n",
              "    height: 32px;\n",
              "    padding: 0;\n",
              "    width: 32px;\n",
              "  }\n",
              "\n",
              "  .colab-df-quickchart:hover {\n",
              "    background-color: var(--hover-bg-color);\n",
              "    box-shadow: 0 1px 2px rgba(60, 64, 67, 0.3), 0 1px 3px 1px rgba(60, 64, 67, 0.15);\n",
              "    fill: var(--button-hover-fill-color);\n",
              "  }\n",
              "\n",
              "  .colab-df-quickchart-complete:disabled,\n",
              "  .colab-df-quickchart-complete:disabled:hover {\n",
              "    background-color: var(--disabled-bg-color);\n",
              "    fill: var(--disabled-fill-color);\n",
              "    box-shadow: none;\n",
              "  }\n",
              "\n",
              "  .colab-df-spinner {\n",
              "    border: 2px solid var(--fill-color);\n",
              "    border-color: transparent;\n",
              "    border-bottom-color: var(--fill-color);\n",
              "    animation:\n",
              "      spin 1s steps(1) infinite;\n",
              "  }\n",
              "\n",
              "  @keyframes spin {\n",
              "    0% {\n",
              "      border-color: transparent;\n",
              "      border-bottom-color: var(--fill-color);\n",
              "      border-left-color: var(--fill-color);\n",
              "    }\n",
              "    20% {\n",
              "      border-color: transparent;\n",
              "      border-left-color: var(--fill-color);\n",
              "      border-top-color: var(--fill-color);\n",
              "    }\n",
              "    30% {\n",
              "      border-color: transparent;\n",
              "      border-left-color: var(--fill-color);\n",
              "      border-top-color: var(--fill-color);\n",
              "      border-right-color: var(--fill-color);\n",
              "    }\n",
              "    40% {\n",
              "      border-color: transparent;\n",
              "      border-right-color: var(--fill-color);\n",
              "      border-top-color: var(--fill-color);\n",
              "    }\n",
              "    60% {\n",
              "      border-color: transparent;\n",
              "      border-right-color: var(--fill-color);\n",
              "    }\n",
              "    80% {\n",
              "      border-color: transparent;\n",
              "      border-right-color: var(--fill-color);\n",
              "      border-bottom-color: var(--fill-color);\n",
              "    }\n",
              "    90% {\n",
              "      border-color: transparent;\n",
              "      border-bottom-color: var(--fill-color);\n",
              "    }\n",
              "  }\n",
              "</style>\n",
              "\n",
              "  <script>\n",
              "    async function quickchart(key) {\n",
              "      const quickchartButtonEl =\n",
              "        document.querySelector('#' + key + ' button');\n",
              "      quickchartButtonEl.disabled = true;  // To prevent multiple clicks.\n",
              "      quickchartButtonEl.classList.add('colab-df-spinner');\n",
              "      try {\n",
              "        const charts = await google.colab.kernel.invokeFunction(\n",
              "            'suggestCharts', [key], {});\n",
              "      } catch (error) {\n",
              "        console.error('Error during call to suggestCharts:', error);\n",
              "      }\n",
              "      quickchartButtonEl.classList.remove('colab-df-spinner');\n",
              "      quickchartButtonEl.classList.add('colab-df-quickchart-complete');\n",
              "    }\n",
              "    (() => {\n",
              "      let quickchartButtonEl =\n",
              "        document.querySelector('#df-39de7c53-b389-4982-ba3a-c44b23210c2b button');\n",
              "      quickchartButtonEl.style.display =\n",
              "        google.colab.kernel.accessAllowed ? 'block' : 'none';\n",
              "    })();\n",
              "  </script>\n",
              "</div>\n",
              "\n",
              "    </div>\n",
              "  </div>\n"
            ],
            "application/vnd.google.colaboratory.intrinsic+json": {
              "type": "dataframe",
              "summary": "{\n  \"name\": \"data[data\",\n  \"rows\": 5,\n  \"fields\": [\n    {\n      \"column\": \"number\",\n      \"properties\": {\n        \"dtype\": \"number\",\n        \"std\": 1,\n        \"min\": 0,\n        \"max\": 4,\n        \"num_unique_values\": 5,\n        \"samples\": [\n          1,\n          4,\n          2\n        ],\n        \"semantic_type\": \"\",\n        \"description\": \"\"\n      }\n    },\n    {\n      \"column\": \"air_pressure_9am\",\n      \"properties\": {\n        \"dtype\": \"number\",\n        \"std\": 2.3257191262159087,\n        \"min\": 917.3476881,\n        \"max\": 923.04,\n        \"num_unique_values\": 5,\n        \"samples\": [\n          917.3476881,\n          921.16,\n          923.04\n        ],\n        \"semantic_type\": \"\",\n        \"description\": \"\"\n      }\n    },\n    {\n      \"column\": \"air_temp_9am\",\n      \"properties\": {\n        \"dtype\": \"number\",\n        \"std\": 12.338068875293416,\n        \"min\": 44.294,\n        \"max\": 74.822,\n        \"num_unique_values\": 5,\n        \"samples\": [\n          71.40384263,\n          44.294,\n          60.638\n        ],\n        \"semantic_type\": \"\",\n        \"description\": \"\"\n      }\n    },\n    {\n      \"column\": \"avg_wind_direction_9am\",\n      \"properties\": {\n        \"dtype\": \"number\",\n        \"std\": 101.18513524259978,\n        \"min\": 51.0,\n        \"max\": 277.8,\n        \"num_unique_values\": 5,\n        \"samples\": [\n          101.9351794,\n          277.8,\n          51.0\n        ],\n        \"semantic_type\": \"\",\n        \"description\": \"\"\n      }\n    },\n    {\n      \"column\": \"avg_wind_speed_9am\",\n      \"properties\": {\n        \"dtype\": \"number\",\n        \"std\": 6.508912195808167,\n        \"min\": 1.8566602,\n        \"max\": 17.0678522,\n        \"num_unique_values\": 5,\n        \"samples\": [\n          2.443009216,\n          1.8566602,\n          17.0678522\n        ],\n        \"semantic_type\": \"\",\n        \"description\": \"\"\n      }\n    },\n    {\n      \"column\": \"max_wind_direction_9am\",\n      \"properties\": {\n        \"dtype\": \"number\",\n        \"std\": 87.6288473175387,\n        \"min\": 63.7,\n        \"max\": 295.4,\n        \"num_unique_values\": 5,\n        \"samples\": [\n          140.4715485,\n          136.5,\n          63.7\n        ],\n        \"semantic_type\": \"\",\n        \"description\": \"\"\n      }\n    },\n    {\n      \"column\": \"max_wind_speed_9am\",\n      \"properties\": {\n        \"dtype\": \"number\",\n        \"std\": 8.322811776049974,\n        \"min\": 2.8632832,\n        \"max\": 22.1009672,\n        \"num_unique_values\": 4,\n        \"samples\": [\n          3.533323602,\n          5.19004536,\n          2.8632832\n        ],\n        \"semantic_type\": \"\",\n        \"description\": \"\"\n      }\n    },\n    {\n      \"column\": \"rain_accumulation_9am\",\n      \"properties\": {\n        \"dtype\": \"number\",\n        \"std\": 3.9802009999496257,\n        \"min\": 0.0,\n        \"max\": 8.9,\n        \"num_unique_values\": 2,\n        \"samples\": [\n          8.9,\n          0.0\n        ],\n        \"semantic_type\": \"\",\n        \"description\": \"\"\n      }\n    },\n    {\n      \"column\": \"rain_duration_9am\",\n      \"properties\": {\n        \"dtype\": \"number\",\n        \"std\": 6585.22588830482,\n        \"min\": 0.0,\n        \"max\": 14730.0,\n        \"num_unique_values\": 3,\n        \"samples\": [\n          0.0,\n          20.0\n        ],\n        \"semantic_type\": \"\",\n        \"description\": \"\"\n      }\n    },\n    {\n      \"column\": \"relative_humidity_9am\",\n      \"properties\": {\n        \"dtype\": \"number\",\n        \"std\": 34.13532040211777,\n        \"min\": 8.9,\n        \"max\": 92.41,\n        \"num_unique_values\": 5,\n        \"samples\": [\n          24.32869729,\n          92.41\n        ],\n        \"semantic_type\": \"\",\n        \"description\": \"\"\n      }\n    },\n    {\n      \"column\": \"relative_humidity_3pm\",\n      \"properties\": {\n        \"dtype\": \"number\",\n        \"std\": 26.718534809895853,\n        \"min\": 12.74254735,\n        \"max\": 76.74,\n        \"num_unique_values\": 5,\n        \"samples\": [\n          19.4265968,\n          76.74\n        ],\n        \"semantic_type\": \"\",\n        \"description\": \"\"\n      }\n    },\n    {\n      \"column\": \"Unnamed: 11\",\n      \"properties\": {\n        \"dtype\": \"number\",\n        \"std\": null,\n        \"min\": null,\n        \"max\": null,\n        \"num_unique_values\": 0,\n        \"samples\": [],\n        \"semantic_type\": \"\",\n        \"description\": \"\"\n      }\n    }\n  ]\n}"
            }
          },
          "metadata": {},
          "execution_count": 7
        }
      ],
      "source": [
        "data[data.isnull().any(axis=1)].head()"
      ]
    },
    {
      "cell_type": "markdown",
      "metadata": {
        "id": "fPq1dNC1r_yN"
      },
      "source": [
        "<p style=\"font-family: Arial; font-size:1.75em;color:blue; font-style:bold\"><br>\n",
        "\n",
        "Data Cleaning Steps<br><br></p>\n",
        "\n",
        "We will not need to number for each row so we can clean it."
      ]
    },
    {
      "cell_type": "markdown",
      "metadata": {
        "id": "sTvaPCRFr_yO"
      },
      "source": [
        "Data Cleaning process --> As number column contains unique values which can not help us making any decision"
      ]
    },
    {
      "cell_type": "code",
      "execution_count": null,
      "metadata": {
        "id": "xSNEKT2Xr_yO"
      },
      "outputs": [],
      "source": [
        "del data['number']"
      ]
    },
    {
      "cell_type": "markdown",
      "metadata": {
        "id": "r8Thcff2r_yO"
      },
      "source": [
        "Calculatoing the amount of data or say number of rows in the dataset before removing the rows containg null values"
      ]
    },
    {
      "cell_type": "code",
      "execution_count": null,
      "metadata": {
        "colab": {
          "base_uri": "https://localhost:8080/"
        },
        "id": "AWAcdwP2r_yO",
        "outputId": "32622c86-6f2e-4149-d090-01f0dfb257d5"
      },
      "outputs": [
        {
          "output_type": "stream",
          "name": "stdout",
          "text": [
            "1095\n"
          ]
        }
      ],
      "source": [
        "before_rows = data.shape[0]\n",
        "print(before_rows)"
      ]
    },
    {
      "cell_type": "markdown",
      "metadata": {
        "id": "fbbuZyNrr_yO"
      },
      "source": [
        "Removing the rows which contains the null values"
      ]
    },
    {
      "cell_type": "code",
      "execution_count": null,
      "metadata": {
        "id": "W5NMYrdpr_yO"
      },
      "outputs": [],
      "source": [
        "data = data.dropna()"
      ]
    },
    {
      "cell_type": "markdown",
      "metadata": {
        "id": "TaChWs8Jr_yO"
      },
      "source": [
        "Calculatoing the amount of data or say number of rows in the dataset after removing the rows containg null values"
      ]
    },
    {
      "cell_type": "code",
      "execution_count": null,
      "metadata": {
        "colab": {
          "base_uri": "https://localhost:8080/"
        },
        "id": "uoF-DgwVr_yO",
        "outputId": "ecbf52f4-e3cb-4509-8ec5-3172d383bb62"
      },
      "outputs": [
        {
          "output_type": "stream",
          "name": "stdout",
          "text": [
            "0\n"
          ]
        }
      ],
      "source": [
        "after_rows = data.shape[0]\n",
        "print(after_rows)"
      ]
    },
    {
      "cell_type": "markdown",
      "metadata": {
        "id": "p4tI4ESDr_yO"
      },
      "source": [
        "Calculate how many rows are deleted which contains the Null Values"
      ]
    },
    {
      "cell_type": "code",
      "execution_count": null,
      "metadata": {
        "colab": {
          "base_uri": "https://localhost:8080/"
        },
        "id": "AzHF7OFNr_yO",
        "outputId": "a911cdb8-cfa7-4328-d901-c65a547ae3dc"
      },
      "outputs": [
        {
          "output_type": "execute_result",
          "data": {
            "text/plain": [
              "1095"
            ]
          },
          "metadata": {},
          "execution_count": 12
        }
      ],
      "source": [
        "before_rows - after_rows"
      ]
    },
    {
      "cell_type": "markdown",
      "metadata": {
        "id": "HyntVol0r_yO"
      },
      "source": [
        "Filter the values which contains more than 24.99 relative humidity at 3pm."
      ]
    },
    {
      "cell_type": "code",
      "execution_count": null,
      "metadata": {
        "colab": {
          "base_uri": "https://localhost:8080/"
        },
        "id": "zKAd9kDvr_yO",
        "outputId": "a1664313-5538-4cf2-f479-5953dd91a051"
      },
      "outputs": [
        {
          "output_type": "execute_result",
          "data": {
            "text/plain": [
              "Series([], Name: high_humidity_label, dtype: int64)"
            ]
          },
          "metadata": {},
          "execution_count": 13
        }
      ],
      "source": [
        "clean_data = data.copy()\n",
        "clean_data['high_humidity_label'] = (clean_data['relative_humidity_3pm'] >24.99) *1\n",
        "clean_data['high_humidity_label'].head()"
      ]
    },
    {
      "cell_type": "code",
      "execution_count": null,
      "metadata": {
        "colab": {
          "base_uri": "https://localhost:8080/",
          "height": 53
        },
        "id": "MR0M1afEr_yP",
        "outputId": "72e3727f-1366-4f8b-9a60-7e6bb59939a4"
      },
      "outputs": [
        {
          "output_type": "execute_result",
          "data": {
            "text/plain": [
              "Empty DataFrame\n",
              "Columns: [high_humidity_label]\n",
              "Index: []"
            ],
            "text/html": [
              "\n",
              "  <div id=\"df-6ad9784b-d6d9-4cf2-894f-5500dede2a21\" class=\"colab-df-container\">\n",
              "    <div>\n",
              "<style scoped>\n",
              "    .dataframe tbody tr th:only-of-type {\n",
              "        vertical-align: middle;\n",
              "    }\n",
              "\n",
              "    .dataframe tbody tr th {\n",
              "        vertical-align: top;\n",
              "    }\n",
              "\n",
              "    .dataframe thead th {\n",
              "        text-align: right;\n",
              "    }\n",
              "</style>\n",
              "<table border=\"1\" class=\"dataframe\">\n",
              "  <thead>\n",
              "    <tr style=\"text-align: right;\">\n",
              "      <th></th>\n",
              "      <th>high_humidity_label</th>\n",
              "    </tr>\n",
              "  </thead>\n",
              "  <tbody>\n",
              "  </tbody>\n",
              "</table>\n",
              "</div>\n",
              "    <div class=\"colab-df-buttons\">\n",
              "\n",
              "  <div class=\"colab-df-container\">\n",
              "    <button class=\"colab-df-convert\" onclick=\"convertToInteractive('df-6ad9784b-d6d9-4cf2-894f-5500dede2a21')\"\n",
              "            title=\"Convert this dataframe to an interactive table.\"\n",
              "            style=\"display:none;\">\n",
              "\n",
              "  <svg xmlns=\"http://www.w3.org/2000/svg\" height=\"24px\" viewBox=\"0 -960 960 960\">\n",
              "    <path d=\"M120-120v-720h720v720H120Zm60-500h600v-160H180v160Zm220 220h160v-160H400v160Zm0 220h160v-160H400v160ZM180-400h160v-160H180v160Zm440 0h160v-160H620v160ZM180-180h160v-160H180v160Zm440 0h160v-160H620v160Z\"/>\n",
              "  </svg>\n",
              "    </button>\n",
              "\n",
              "  <style>\n",
              "    .colab-df-container {\n",
              "      display:flex;\n",
              "      gap: 12px;\n",
              "    }\n",
              "\n",
              "    .colab-df-convert {\n",
              "      background-color: #E8F0FE;\n",
              "      border: none;\n",
              "      border-radius: 50%;\n",
              "      cursor: pointer;\n",
              "      display: none;\n",
              "      fill: #1967D2;\n",
              "      height: 32px;\n",
              "      padding: 0 0 0 0;\n",
              "      width: 32px;\n",
              "    }\n",
              "\n",
              "    .colab-df-convert:hover {\n",
              "      background-color: #E2EBFA;\n",
              "      box-shadow: 0px 1px 2px rgba(60, 64, 67, 0.3), 0px 1px 3px 1px rgba(60, 64, 67, 0.15);\n",
              "      fill: #174EA6;\n",
              "    }\n",
              "\n",
              "    .colab-df-buttons div {\n",
              "      margin-bottom: 4px;\n",
              "    }\n",
              "\n",
              "    [theme=dark] .colab-df-convert {\n",
              "      background-color: #3B4455;\n",
              "      fill: #D2E3FC;\n",
              "    }\n",
              "\n",
              "    [theme=dark] .colab-df-convert:hover {\n",
              "      background-color: #434B5C;\n",
              "      box-shadow: 0px 1px 3px 1px rgba(0, 0, 0, 0.15);\n",
              "      filter: drop-shadow(0px 1px 2px rgba(0, 0, 0, 0.3));\n",
              "      fill: #FFFFFF;\n",
              "    }\n",
              "  </style>\n",
              "\n",
              "    <script>\n",
              "      const buttonEl =\n",
              "        document.querySelector('#df-6ad9784b-d6d9-4cf2-894f-5500dede2a21 button.colab-df-convert');\n",
              "      buttonEl.style.display =\n",
              "        google.colab.kernel.accessAllowed ? 'block' : 'none';\n",
              "\n",
              "      async function convertToInteractive(key) {\n",
              "        const element = document.querySelector('#df-6ad9784b-d6d9-4cf2-894f-5500dede2a21');\n",
              "        const dataTable =\n",
              "          await google.colab.kernel.invokeFunction('convertToInteractive',\n",
              "                                                    [key], {});\n",
              "        if (!dataTable) return;\n",
              "\n",
              "        const docLinkHtml = 'Like what you see? Visit the ' +\n",
              "          '<a target=\"_blank\" href=https://colab.research.google.com/notebooks/data_table.ipynb>data table notebook</a>'\n",
              "          + ' to learn more about interactive tables.';\n",
              "        element.innerHTML = '';\n",
              "        dataTable['output_type'] = 'display_data';\n",
              "        await google.colab.output.renderOutput(dataTable, element);\n",
              "        const docLink = document.createElement('div');\n",
              "        docLink.innerHTML = docLinkHtml;\n",
              "        element.appendChild(docLink);\n",
              "      }\n",
              "    </script>\n",
              "  </div>\n",
              "\n",
              "\n",
              "    </div>\n",
              "  </div>\n"
            ],
            "application/vnd.google.colaboratory.intrinsic+json": {
              "type": "dataframe",
              "variable_name": "y",
              "summary": "{\n  \"name\": \"y\",\n  \"rows\": 0,\n  \"fields\": [\n    {\n      \"column\": \"high_humidity_label\",\n      \"properties\": {\n        \"dtype\": \"number\",\n        \"std\": null,\n        \"min\": null,\n        \"max\": null,\n        \"num_unique_values\": 0,\n        \"samples\": [],\n        \"semantic_type\": \"\",\n        \"description\": \"\"\n      }\n    }\n  ]\n}"
            }
          },
          "metadata": {},
          "execution_count": 14
        }
      ],
      "source": [
        "y = clean_data[['high_humidity_label']].copy()\n",
        "y.head()"
      ]
    },
    {
      "cell_type": "code",
      "execution_count": null,
      "metadata": {
        "colab": {
          "base_uri": "https://localhost:8080/"
        },
        "id": "CmVtqSmNr_yP",
        "outputId": "895fe526-488e-4e47-a919-d7faad8168d2"
      },
      "outputs": [
        {
          "output_type": "execute_result",
          "data": {
            "text/plain": [
              "Series([], Name: relative_humidity_3pm, dtype: float64)"
            ]
          },
          "metadata": {},
          "execution_count": 15
        }
      ],
      "source": [
        "clean_data['relative_humidity_3pm'].head()"
      ]
    },
    {
      "cell_type": "code",
      "execution_count": null,
      "metadata": {
        "colab": {
          "base_uri": "https://localhost:8080/",
          "height": 53
        },
        "id": "jFhgxBpbr_yP",
        "outputId": "9eee4fb7-0f0a-4555-c463-fd9d59899c2c"
      },
      "outputs": [
        {
          "output_type": "execute_result",
          "data": {
            "text/plain": [
              "Empty DataFrame\n",
              "Columns: [high_humidity_label]\n",
              "Index: []"
            ],
            "text/html": [
              "\n",
              "  <div id=\"df-66a751d8-a87c-4831-ad94-151eb96a7be8\" class=\"colab-df-container\">\n",
              "    <div>\n",
              "<style scoped>\n",
              "    .dataframe tbody tr th:only-of-type {\n",
              "        vertical-align: middle;\n",
              "    }\n",
              "\n",
              "    .dataframe tbody tr th {\n",
              "        vertical-align: top;\n",
              "    }\n",
              "\n",
              "    .dataframe thead th {\n",
              "        text-align: right;\n",
              "    }\n",
              "</style>\n",
              "<table border=\"1\" class=\"dataframe\">\n",
              "  <thead>\n",
              "    <tr style=\"text-align: right;\">\n",
              "      <th></th>\n",
              "      <th>high_humidity_label</th>\n",
              "    </tr>\n",
              "  </thead>\n",
              "  <tbody>\n",
              "  </tbody>\n",
              "</table>\n",
              "</div>\n",
              "    <div class=\"colab-df-buttons\">\n",
              "\n",
              "  <div class=\"colab-df-container\">\n",
              "    <button class=\"colab-df-convert\" onclick=\"convertToInteractive('df-66a751d8-a87c-4831-ad94-151eb96a7be8')\"\n",
              "            title=\"Convert this dataframe to an interactive table.\"\n",
              "            style=\"display:none;\">\n",
              "\n",
              "  <svg xmlns=\"http://www.w3.org/2000/svg\" height=\"24px\" viewBox=\"0 -960 960 960\">\n",
              "    <path d=\"M120-120v-720h720v720H120Zm60-500h600v-160H180v160Zm220 220h160v-160H400v160Zm0 220h160v-160H400v160ZM180-400h160v-160H180v160Zm440 0h160v-160H620v160ZM180-180h160v-160H180v160Zm440 0h160v-160H620v160Z\"/>\n",
              "  </svg>\n",
              "    </button>\n",
              "\n",
              "  <style>\n",
              "    .colab-df-container {\n",
              "      display:flex;\n",
              "      gap: 12px;\n",
              "    }\n",
              "\n",
              "    .colab-df-convert {\n",
              "      background-color: #E8F0FE;\n",
              "      border: none;\n",
              "      border-radius: 50%;\n",
              "      cursor: pointer;\n",
              "      display: none;\n",
              "      fill: #1967D2;\n",
              "      height: 32px;\n",
              "      padding: 0 0 0 0;\n",
              "      width: 32px;\n",
              "    }\n",
              "\n",
              "    .colab-df-convert:hover {\n",
              "      background-color: #E2EBFA;\n",
              "      box-shadow: 0px 1px 2px rgba(60, 64, 67, 0.3), 0px 1px 3px 1px rgba(60, 64, 67, 0.15);\n",
              "      fill: #174EA6;\n",
              "    }\n",
              "\n",
              "    .colab-df-buttons div {\n",
              "      margin-bottom: 4px;\n",
              "    }\n",
              "\n",
              "    [theme=dark] .colab-df-convert {\n",
              "      background-color: #3B4455;\n",
              "      fill: #D2E3FC;\n",
              "    }\n",
              "\n",
              "    [theme=dark] .colab-df-convert:hover {\n",
              "      background-color: #434B5C;\n",
              "      box-shadow: 0px 1px 3px 1px rgba(0, 0, 0, 0.15);\n",
              "      filter: drop-shadow(0px 1px 2px rgba(0, 0, 0, 0.3));\n",
              "      fill: #FFFFFF;\n",
              "    }\n",
              "  </style>\n",
              "\n",
              "    <script>\n",
              "      const buttonEl =\n",
              "        document.querySelector('#df-66a751d8-a87c-4831-ad94-151eb96a7be8 button.colab-df-convert');\n",
              "      buttonEl.style.display =\n",
              "        google.colab.kernel.accessAllowed ? 'block' : 'none';\n",
              "\n",
              "      async function convertToInteractive(key) {\n",
              "        const element = document.querySelector('#df-66a751d8-a87c-4831-ad94-151eb96a7be8');\n",
              "        const dataTable =\n",
              "          await google.colab.kernel.invokeFunction('convertToInteractive',\n",
              "                                                    [key], {});\n",
              "        if (!dataTable) return;\n",
              "\n",
              "        const docLinkHtml = 'Like what you see? Visit the ' +\n",
              "          '<a target=\"_blank\" href=https://colab.research.google.com/notebooks/data_table.ipynb>data table notebook</a>'\n",
              "          + ' to learn more about interactive tables.';\n",
              "        element.innerHTML = '';\n",
              "        dataTable['output_type'] = 'display_data';\n",
              "        await google.colab.output.renderOutput(dataTable, element);\n",
              "        const docLink = document.createElement('div');\n",
              "        docLink.innerHTML = docLinkHtml;\n",
              "        element.appendChild(docLink);\n",
              "      }\n",
              "    </script>\n",
              "  </div>\n",
              "\n",
              "\n",
              "    </div>\n",
              "  </div>\n"
            ],
            "application/vnd.google.colaboratory.intrinsic+json": {
              "type": "dataframe",
              "variable_name": "y",
              "summary": "{\n  \"name\": \"y\",\n  \"rows\": 0,\n  \"fields\": [\n    {\n      \"column\": \"high_humidity_label\",\n      \"properties\": {\n        \"dtype\": \"number\",\n        \"std\": null,\n        \"min\": null,\n        \"max\": null,\n        \"num_unique_values\": 0,\n        \"samples\": [],\n        \"semantic_type\": \"\",\n        \"description\": \"\"\n      }\n    }\n  ]\n}"
            }
          },
          "metadata": {},
          "execution_count": 16
        }
      ],
      "source": [
        "y.head()"
      ]
    },
    {
      "cell_type": "markdown",
      "metadata": {
        "id": "h1sWFYi0r_yP"
      },
      "source": [
        "<p style=\"font-family: Arial; font-size:1.75em;color:blue; font-style:bold\"><br>\n",
        "\n",
        "Use 9am Sensor Signals as Features to Predict Humidity at 3pm\n",
        "<br><br></p>\n"
      ]
    },
    {
      "cell_type": "markdown",
      "metadata": {
        "id": "xvIeg152r_yP"
      },
      "source": [
        "Storing all the Morning features other than Humidity at 3 pm in the morning feature"
      ]
    },
    {
      "cell_type": "code",
      "execution_count": null,
      "metadata": {
        "id": "oDzNVMyLr_yP"
      },
      "outputs": [],
      "source": [
        "morning_features = ['air_pressure_9am', 'air_temp_9am', 'avg_wind_direction_9am',\n",
        "       'avg_wind_speed_9am', 'max_wind_direction_9am', 'max_wind_speed_9am',\n",
        "       'rain_accumulation_9am', 'rain_duration_9am', 'relative_humidity_9am']"
      ]
    },
    {
      "cell_type": "markdown",
      "metadata": {
        "id": "eixdYOJSr_yP"
      },
      "source": [
        "Copying the values from the clean_data dataset to new dataset x which only consist of the Morning Feature Data"
      ]
    },
    {
      "cell_type": "code",
      "execution_count": null,
      "metadata": {
        "colab": {
          "base_uri": "https://localhost:8080/"
        },
        "id": "cbNURrffr_yP",
        "outputId": "fe214ece-05ca-4ac8-aa53-b6a1a61359b5"
      },
      "outputs": [
        {
          "output_type": "execute_result",
          "data": {
            "text/plain": [
              "Index(['air_pressure_9am', 'air_temp_9am', 'avg_wind_direction_9am',\n",
              "       'avg_wind_speed_9am', 'max_wind_direction_9am', 'max_wind_speed_9am',\n",
              "       'rain_accumulation_9am', 'rain_duration_9am', 'relative_humidity_9am'],\n",
              "      dtype='object')"
            ]
          },
          "metadata": {},
          "execution_count": 18
        }
      ],
      "source": [
        "x=clean_data[morning_features].copy()\n",
        "x.columns"
      ]
    },
    {
      "cell_type": "code",
      "execution_count": null,
      "metadata": {
        "colab": {
          "base_uri": "https://localhost:8080/"
        },
        "id": "9l1GTiDRr_yP",
        "outputId": "ad39bfcb-02e2-42d7-b3f9-d03bad3f316a"
      },
      "outputs": [
        {
          "output_type": "execute_result",
          "data": {
            "text/plain": [
              "Index(['high_humidity_label'], dtype='object')"
            ]
          },
          "metadata": {},
          "execution_count": 19
        }
      ],
      "source": [
        "y.columns"
      ]
    },
    {
      "cell_type": "markdown",
      "metadata": {
        "id": "40vfMKNyr_yP"
      },
      "source": [
        "<p style=\"font-family: Arial; font-size:1.75em;color:blue; font-style:bold\"><br>\n",
        "\n",
        "Perform Test and Train split\n",
        "\n",
        "<br><br></p>\n"
      ]
    },
    {
      "cell_type": "markdown",
      "metadata": {
        "id": "B5gvnFBOr_yP"
      },
      "source": [
        "By using train_test_split we have split the data into traing dataset and testing datasets."
      ]
    },
    {
      "cell_type": "code",
      "execution_count": null,
      "metadata": {
        "colab": {
          "base_uri": "https://localhost:8080/"
        },
        "id": "wEDyJ5IIr_yQ",
        "outputId": "f210b6be-7d58-46b1-87b5-c06f54165fde"
      },
      "outputs": [
        {
          "output_type": "stream",
          "name": "stdout",
          "text": [
            "(0, 12)\n",
            "['air_pressure_9am', 'air_temp_9am', 'avg_wind_direction_9am', 'avg_wind_speed_9am', 'max_wind_direction_9am', 'max_wind_speed_9am', 'rain_accumulation_9am', 'rain_duration_9am', 'relative_humidity_9am']\n",
            "Empty DataFrame\n",
            "Columns: [air_pressure_9am, air_temp_9am, avg_wind_direction_9am, avg_wind_speed_9am, max_wind_direction_9am, max_wind_speed_9am, rain_accumulation_9am, rain_duration_9am, relative_humidity_9am]\n",
            "Index: []\n",
            "Empty DataFrame\n",
            "Columns: [high_humidity_label]\n",
            "Index: []\n"
          ]
        }
      ],
      "source": [
        "print(clean_data.shape)  # Check the shape of clean_data\n",
        "print(morning_features) # Check what features are in morning_features\n",
        "print(clean_data[morning_features].head())  # Print the first few rows of the sliced DataFrame\n",
        "print(y.head()) # Print the first few rows of y\n",
        "\n",
        "# If clean_data is empty, you'll need to figure out why it's not being populated correctly.\n",
        "# If morning_features is an empty list, you won't get any columns in x.\n",
        "# If y is empty, you'll need to figure out why it's not being populated correctly."
      ]
    },
    {
      "cell_type": "markdown",
      "metadata": {
        "id": "2IXReqfyr_yQ"
      },
      "source": [
        "<p style=\"font-family: Arial; font-size:1.75em;color:blue; font-style:bold\"><br>\n",
        "\n",
        "Fit on Train Set\n",
        "<br><br></p>\n"
      ]
    },
    {
      "cell_type": "markdown",
      "metadata": {
        "id": "XO-3GL81r_yQ"
      },
      "source": [
        "We have made a classifier for making the Decision Tree and to train the data using this classifier"
      ]
    },
    {
      "cell_type": "code",
      "execution_count": null,
      "metadata": {
        "colab": {
          "base_uri": "https://localhost:8080/"
        },
        "id": "-X2HFWyrr_yQ",
        "outputId": "644774c3-84de-47db-d75e-b4ba2b7390dc"
      },
      "outputs": [
        {
          "output_type": "stream",
          "name": "stdout",
          "text": [
            "(0, 12)\n",
            "(0, 9)\n"
          ]
        }
      ],
      "source": [
        "# Before calling train_test_split, check the shape of the DataFrames:\n",
        "print(clean_data.shape)\n",
        "print(X.shape)\n",
        "\n",
        "# If they are empty, investigate the steps leading to the creation of 'clean_data'.\n",
        "# Ensure that data is being loaded and processed correctly.\n",
        "# You might need to review the code that generates 'clean_data'."
      ]
    },
    {
      "cell_type": "code",
      "execution_count": null,
      "metadata": {
        "colab": {
          "base_uri": "https://localhost:8080/",
          "height": 221
        },
        "id": "DKFBwYvMr_yQ",
        "outputId": "8307ba8c-4909-4d5c-f77a-96f71926601b"
      },
      "outputs": [
        {
          "output_type": "execute_result",
          "data": {
            "text/plain": [
              "sklearn.tree._classes.DecisionTreeClassifier"
            ],
            "text/html": [
              "<div style=\"max-width:800px; border: 1px solid var(--colab-border-color);\"><style>\n",
              "      pre.function-repr-contents {\n",
              "        overflow-x: auto;\n",
              "        padding: 8px 12px;\n",
              "        max-height: 500px;\n",
              "      }\n",
              "\n",
              "      pre.function-repr-contents.function-repr-contents-collapsed {\n",
              "        cursor: pointer;\n",
              "        max-height: 100px;\n",
              "      }\n",
              "    </style>\n",
              "    <pre style=\"white-space: initial; background:\n",
              "         var(--colab-secondary-surface-color); padding: 8px 12px;\n",
              "         border-bottom: 1px solid var(--colab-border-color);\"><b>sklearn.tree._classes.DecisionTreeClassifier</b><br/>def __init__(*, criterion=&#x27;gini&#x27;, splitter=&#x27;best&#x27;, max_depth=None, min_samples_split=2, min_samples_leaf=1, min_weight_fraction_leaf=0.0, max_features=None, random_state=None, max_leaf_nodes=None, min_impurity_decrease=0.0, class_weight=None, ccp_alpha=0.0)</pre><pre class=\"function-repr-contents function-repr-contents-collapsed\" style=\"\"><a class=\"filepath\" style=\"display:none\" href=\"#\">/usr/local/lib/python3.10/dist-packages/sklearn/tree/_classes.py</a>A decision tree classifier.\n",
              "\n",
              "Read more in the :ref:`User Guide &lt;tree&gt;`.\n",
              "\n",
              "Parameters\n",
              "----------\n",
              "criterion : {&quot;gini&quot;, &quot;entropy&quot;, &quot;log_loss&quot;}, default=&quot;gini&quot;\n",
              "    The function to measure the quality of a split. Supported criteria are\n",
              "    &quot;gini&quot; for the Gini impurity and &quot;log_loss&quot; and &quot;entropy&quot; both for the\n",
              "    Shannon information gain, see :ref:`tree_mathematical_formulation`.\n",
              "\n",
              "splitter : {&quot;best&quot;, &quot;random&quot;}, default=&quot;best&quot;\n",
              "    The strategy used to choose the split at each node. Supported\n",
              "    strategies are &quot;best&quot; to choose the best split and &quot;random&quot; to choose\n",
              "    the best random split.\n",
              "\n",
              "max_depth : int, default=None\n",
              "    The maximum depth of the tree. If None, then nodes are expanded until\n",
              "    all leaves are pure or until all leaves contain less than\n",
              "    min_samples_split samples.\n",
              "\n",
              "min_samples_split : int or float, default=2\n",
              "    The minimum number of samples required to split an internal node:\n",
              "\n",
              "    - If int, then consider `min_samples_split` as the minimum number.\n",
              "    - If float, then `min_samples_split` is a fraction and\n",
              "      `ceil(min_samples_split * n_samples)` are the minimum\n",
              "      number of samples for each split.\n",
              "\n",
              "    .. versionchanged:: 0.18\n",
              "       Added float values for fractions.\n",
              "\n",
              "min_samples_leaf : int or float, default=1\n",
              "    The minimum number of samples required to be at a leaf node.\n",
              "    A split point at any depth will only be considered if it leaves at\n",
              "    least ``min_samples_leaf`` training samples in each of the left and\n",
              "    right branches.  This may have the effect of smoothing the model,\n",
              "    especially in regression.\n",
              "\n",
              "    - If int, then consider `min_samples_leaf` as the minimum number.\n",
              "    - If float, then `min_samples_leaf` is a fraction and\n",
              "      `ceil(min_samples_leaf * n_samples)` are the minimum\n",
              "      number of samples for each node.\n",
              "\n",
              "    .. versionchanged:: 0.18\n",
              "       Added float values for fractions.\n",
              "\n",
              "min_weight_fraction_leaf : float, default=0.0\n",
              "    The minimum weighted fraction of the sum total of weights (of all\n",
              "    the input samples) required to be at a leaf node. Samples have\n",
              "    equal weight when sample_weight is not provided.\n",
              "\n",
              "max_features : int, float or {&quot;auto&quot;, &quot;sqrt&quot;, &quot;log2&quot;}, default=None\n",
              "    The number of features to consider when looking for the best split:\n",
              "\n",
              "        - If int, then consider `max_features` features at each split.\n",
              "        - If float, then `max_features` is a fraction and\n",
              "          `max(1, int(max_features * n_features_in_))` features are considered at\n",
              "          each split.\n",
              "        - If &quot;auto&quot;, then `max_features=sqrt(n_features)`.\n",
              "        - If &quot;sqrt&quot;, then `max_features=sqrt(n_features)`.\n",
              "        - If &quot;log2&quot;, then `max_features=log2(n_features)`.\n",
              "        - If None, then `max_features=n_features`.\n",
              "\n",
              "        .. deprecated:: 1.1\n",
              "            The `&quot;auto&quot;` option was deprecated in 1.1 and will be removed\n",
              "            in 1.3.\n",
              "\n",
              "    Note: the search for a split does not stop until at least one\n",
              "    valid partition of the node samples is found, even if it requires to\n",
              "    effectively inspect more than ``max_features`` features.\n",
              "\n",
              "random_state : int, RandomState instance or None, default=None\n",
              "    Controls the randomness of the estimator. The features are always\n",
              "    randomly permuted at each split, even if ``splitter`` is set to\n",
              "    ``&quot;best&quot;``. When ``max_features &lt; n_features``, the algorithm will\n",
              "    select ``max_features`` at random at each split before finding the best\n",
              "    split among them. But the best found split may vary across different\n",
              "    runs, even if ``max_features=n_features``. That is the case, if the\n",
              "    improvement of the criterion is identical for several splits and one\n",
              "    split has to be selected at random. To obtain a deterministic behaviour\n",
              "    during fitting, ``random_state`` has to be fixed to an integer.\n",
              "    See :term:`Glossary &lt;random_state&gt;` for details.\n",
              "\n",
              "max_leaf_nodes : int, default=None\n",
              "    Grow a tree with ``max_leaf_nodes`` in best-first fashion.\n",
              "    Best nodes are defined as relative reduction in impurity.\n",
              "    If None then unlimited number of leaf nodes.\n",
              "\n",
              "min_impurity_decrease : float, default=0.0\n",
              "    A node will be split if this split induces a decrease of the impurity\n",
              "    greater than or equal to this value.\n",
              "\n",
              "    The weighted impurity decrease equation is the following::\n",
              "\n",
              "        N_t / N * (impurity - N_t_R / N_t * right_impurity\n",
              "                            - N_t_L / N_t * left_impurity)\n",
              "\n",
              "    where ``N`` is the total number of samples, ``N_t`` is the number of\n",
              "    samples at the current node, ``N_t_L`` is the number of samples in the\n",
              "    left child, and ``N_t_R`` is the number of samples in the right child.\n",
              "\n",
              "    ``N``, ``N_t``, ``N_t_R`` and ``N_t_L`` all refer to the weighted sum,\n",
              "    if ``sample_weight`` is passed.\n",
              "\n",
              "    .. versionadded:: 0.19\n",
              "\n",
              "class_weight : dict, list of dict or &quot;balanced&quot;, default=None\n",
              "    Weights associated with classes in the form ``{class_label: weight}``.\n",
              "    If None, all classes are supposed to have weight one. For\n",
              "    multi-output problems, a list of dicts can be provided in the same\n",
              "    order as the columns of y.\n",
              "\n",
              "    Note that for multioutput (including multilabel) weights should be\n",
              "    defined for each class of every column in its own dict. For example,\n",
              "    for four-class multilabel classification weights should be\n",
              "    [{0: 1, 1: 1}, {0: 1, 1: 5}, {0: 1, 1: 1}, {0: 1, 1: 1}] instead of\n",
              "    [{1:1}, {2:5}, {3:1}, {4:1}].\n",
              "\n",
              "    The &quot;balanced&quot; mode uses the values of y to automatically adjust\n",
              "    weights inversely proportional to class frequencies in the input data\n",
              "    as ``n_samples / (n_classes * np.bincount(y))``\n",
              "\n",
              "    For multi-output, the weights of each column of y will be multiplied.\n",
              "\n",
              "    Note that these weights will be multiplied with sample_weight (passed\n",
              "    through the fit method) if sample_weight is specified.\n",
              "\n",
              "ccp_alpha : non-negative float, default=0.0\n",
              "    Complexity parameter used for Minimal Cost-Complexity Pruning. The\n",
              "    subtree with the largest cost complexity that is smaller than\n",
              "    ``ccp_alpha`` will be chosen. By default, no pruning is performed. See\n",
              "    :ref:`minimal_cost_complexity_pruning` for details.\n",
              "\n",
              "    .. versionadded:: 0.22\n",
              "\n",
              "Attributes\n",
              "----------\n",
              "classes_ : ndarray of shape (n_classes,) or list of ndarray\n",
              "    The classes labels (single output problem),\n",
              "    or a list of arrays of class labels (multi-output problem).\n",
              "\n",
              "feature_importances_ : ndarray of shape (n_features,)\n",
              "    The impurity-based feature importances.\n",
              "    The higher, the more important the feature.\n",
              "    The importance of a feature is computed as the (normalized)\n",
              "    total reduction of the criterion brought by that feature.  It is also\n",
              "    known as the Gini importance [4]_.\n",
              "\n",
              "    Warning: impurity-based feature importances can be misleading for\n",
              "    high cardinality features (many unique values). See\n",
              "    :func:`sklearn.inspection.permutation_importance` as an alternative.\n",
              "\n",
              "max_features_ : int\n",
              "    The inferred value of max_features.\n",
              "\n",
              "n_classes_ : int or list of int\n",
              "    The number of classes (for single output problems),\n",
              "    or a list containing the number of classes for each\n",
              "    output (for multi-output problems).\n",
              "\n",
              "n_features_in_ : int\n",
              "    Number of features seen during :term:`fit`.\n",
              "\n",
              "    .. versionadded:: 0.24\n",
              "\n",
              "feature_names_in_ : ndarray of shape (`n_features_in_`,)\n",
              "    Names of features seen during :term:`fit`. Defined only when `X`\n",
              "    has feature names that are all strings.\n",
              "\n",
              "    .. versionadded:: 1.0\n",
              "\n",
              "n_outputs_ : int\n",
              "    The number of outputs when ``fit`` is performed.\n",
              "\n",
              "tree_ : Tree instance\n",
              "    The underlying Tree object. Please refer to\n",
              "    ``help(sklearn.tree._tree.Tree)`` for attributes of Tree object and\n",
              "    :ref:`sphx_glr_auto_examples_tree_plot_unveil_tree_structure.py`\n",
              "    for basic usage of these attributes.\n",
              "\n",
              "See Also\n",
              "--------\n",
              "DecisionTreeRegressor : A decision tree regressor.\n",
              "\n",
              "Notes\n",
              "-----\n",
              "The default values for the parameters controlling the size of the trees\n",
              "(e.g. ``max_depth``, ``min_samples_leaf``, etc.) lead to fully grown and\n",
              "unpruned trees which can potentially be very large on some data sets. To\n",
              "reduce memory consumption, the complexity and size of the trees should be\n",
              "controlled by setting those parameter values.\n",
              "\n",
              "The :meth:`predict` method operates using the :func:`numpy.argmax`\n",
              "function on the outputs of :meth:`predict_proba`. This means that in\n",
              "case the highest predicted probabilities are tied, the classifier will\n",
              "predict the tied class with the lowest index in :term:`classes_`.\n",
              "\n",
              "References\n",
              "----------\n",
              "\n",
              ".. [1] https://en.wikipedia.org/wiki/Decision_tree_learning\n",
              "\n",
              ".. [2] L. Breiman, J. Friedman, R. Olshen, and C. Stone, &quot;Classification\n",
              "       and Regression Trees&quot;, Wadsworth, Belmont, CA, 1984.\n",
              "\n",
              ".. [3] T. Hastie, R. Tibshirani and J. Friedman. &quot;Elements of Statistical\n",
              "       Learning&quot;, Springer, 2009.\n",
              "\n",
              ".. [4] L. Breiman, and A. Cutler, &quot;Random Forests&quot;,\n",
              "       https://www.stat.berkeley.edu/~breiman/RandomForests/cc_home.htm\n",
              "\n",
              "Examples\n",
              "--------\n",
              "&gt;&gt;&gt; from sklearn.datasets import load_iris\n",
              "&gt;&gt;&gt; from sklearn.model_selection import cross_val_score\n",
              "&gt;&gt;&gt; from sklearn.tree import DecisionTreeClassifier\n",
              "&gt;&gt;&gt; clf = DecisionTreeClassifier(random_state=0)\n",
              "&gt;&gt;&gt; iris = load_iris()\n",
              "&gt;&gt;&gt; cross_val_score(clf, iris.data, iris.target, cv=10)\n",
              "...                             # doctest: +SKIP\n",
              "...\n",
              "array([ 1.     ,  0.93...,  0.86...,  0.93...,  0.93...,\n",
              "        0.93...,  0.93...,  1.     ,  0.93...,  1.      ])</pre>\n",
              "      <script>\n",
              "      if (google.colab.kernel.accessAllowed && google.colab.files && google.colab.files.view) {\n",
              "        for (const element of document.querySelectorAll('.filepath')) {\n",
              "          element.style.display = 'block'\n",
              "          element.onclick = (event) => {\n",
              "            event.preventDefault();\n",
              "            event.stopPropagation();\n",
              "            google.colab.files.view(element.textContent, 595);\n",
              "          };\n",
              "        }\n",
              "      }\n",
              "      for (const element of document.querySelectorAll('.function-repr-contents')) {\n",
              "        element.onclick = (event) => {\n",
              "          event.preventDefault();\n",
              "          event.stopPropagation();\n",
              "          element.classList.toggle('function-repr-contents-collapsed');\n",
              "        };\n",
              "      }\n",
              "      </script>\n",
              "      </div>"
            ]
          },
          "metadata": {},
          "execution_count": 26
        }
      ],
      "source": [
        "type(humidity_classifier)"
      ]
    },
    {
      "cell_type": "markdown",
      "metadata": {
        "id": "MwgtmEpBr_yR"
      },
      "source": [
        "<p style=\"font-family: Arial; font-size:1.75em;color:blue; font-style:bold\"><br>\n",
        "\n",
        "Predict on Test Set\n",
        "\n",
        "<br><br></p>\n"
      ]
    },
    {
      "cell_type": "markdown",
      "metadata": {
        "id": "XZWOQ_BPr_yR"
      },
      "source": [
        "Using humidity_classifier we have predicted the value for the X_test and stored it to y_predicted"
      ]
    },
    {
      "cell_type": "code",
      "execution_count": null,
      "metadata": {
        "colab": {
          "base_uri": "https://localhost:8080/"
        },
        "id": "NTOdNXsTr_yR",
        "outputId": "4a0cbeed-c26b-4e07-c3d6-9c90088958c7"
      },
      "outputs": [
        {
          "output_type": "stream",
          "name": "stdout",
          "text": [
            "Training set: [[3 4]\n",
            " [5 6]] [1 1]\n",
            "Test set: [[1 2]] [0]\n"
          ]
        }
      ],
      "source": [
        "from sklearn.model_selection import train_test_split\n",
        "import numpy as np\n",
        "\n",
        "# Assume data loading here\n",
        "# Example data (replace with your actual data loading code)\n",
        "X = np.array([[1, 2], [3, 4], [5, 6]])  # Replace with your actual data loading\n",
        "y = np.array([0, 1, 1])                # Replace with your actual data loading\n",
        "\n",
        "# Check if data is empty\n",
        "if X.size == 0 or y.size == 0:\n",
        "    raise ValueError(\"The dataset is empty. Please check your data loading process.\")\n",
        "else:\n",
        "    # Proceed with train-test split\n",
        "    X_train, X_test, y_train, y_test = train_test_split(X, y, test_size=0.2, random_state=42)\n",
        "    print(\"Training set:\", X_train, y_train)\n",
        "    print(\"Test set:\", X_test, y_test)\n"
      ]
    },
    {
      "cell_type": "code",
      "execution_count": null,
      "metadata": {
        "colab": {
          "base_uri": "https://localhost:8080/"
        },
        "id": "3iloqMXer_yR",
        "outputId": "68e69ceb-4d4e-4fad-ee35-c9950b65d1fe"
      },
      "outputs": [
        {
          "output_type": "stream",
          "name": "stdout",
          "text": [
            "[0]\n"
          ]
        }
      ],
      "source": [
        "# Assuming 'humidity_classifier' is your trained model and X_test is your test data\n",
        "y_predicted = humidity_classifier.predict(X_test)\n",
        "\n",
        "# Now you can print the first 10 predictions\n",
        "print(y_predicted[:10])"
      ]
    },
    {
      "cell_type": "code",
      "execution_count": null,
      "metadata": {
        "colab": {
          "base_uri": "https://localhost:8080/"
        },
        "id": "vqe06-74r_yR",
        "outputId": "b07cc2a5-24a8-46b9-a47e-d9fe3c5f09c8"
      },
      "outputs": [
        {
          "output_type": "stream",
          "name": "stdout",
          "text": [
            "Predictions: [0]\n"
          ]
        }
      ],
      "source": [
        "from sklearn.tree import DecisionTreeClassifier\n",
        "from sklearn.model_selection import train_test_split\n",
        "from sklearn.utils.validation import check_is_fitted\n",
        "import numpy as np\n",
        "\n",
        "# Example data\n",
        "X = np.array([[1, 2], [3, 4], [5, 6], [7, 8], [9, 10]])\n",
        "y = np.array([0, 1, 0, 1, 0])\n",
        "\n",
        "# Split the data into training and test sets\n",
        "X_train, X_test, y_train, y_test = train_test_split(X, y, test_size=0.2, random_state=42)\n",
        "\n",
        "# Initialize the classifier\n",
        "humidity_classifier = DecisionTreeClassifier()\n",
        "\n",
        "# Fit the classifier on the training data\n",
        "humidity_classifier.fit(X_train, y_train)\n",
        "\n",
        "# Check if the model is fitted before prediction\n",
        "check_is_fitted(humidity_classifier)\n",
        "\n",
        "# Make predictions on the test data\n",
        "y_predicted = humidity_classifier.predict(X_test)\n",
        "\n",
        "# Print the predictions\n",
        "print(\"Predictions:\", y_predicted)\n"
      ]
    },
    {
      "cell_type": "markdown",
      "metadata": {
        "id": "Cga041lyr_yR"
      },
      "source": [
        "<p style=\"font-family: Arial; font-size:1.75em;color:blue; font-style:bold\"><br>\n",
        "\n",
        "Measure Accuracy of the Classifier\n",
        "<br><br></p>\n"
      ]
    },
    {
      "cell_type": "markdown",
      "metadata": {
        "id": "EUxk0jn1r_yR"
      },
      "source": [
        "Checking our accuracy of the model using accuracy_score function from sklearn metrics which in this case is with around 90% accuracy"
      ]
    },
    {
      "cell_type": "code",
      "execution_count": null,
      "metadata": {
        "colab": {
          "base_uri": "https://localhost:8080/"
        },
        "id": "qQg2P3Ykr_yR",
        "outputId": "ab152546-0e34-4bdd-cb82-7ba402715fa6"
      },
      "outputs": [
        {
          "output_type": "execute_result",
          "data": {
            "text/plain": [
              "0.0"
            ]
          },
          "metadata": {},
          "execution_count": 36
        }
      ],
      "source": [
        "accuracy_score(y_test,y_predicted)*100"
      ]
    }
  ],
  "metadata": {
    "kernelspec": {
      "display_name": "Python 3 (ipykernel)",
      "language": "python",
      "name": "python3"
    },
    "language_info": {
      "codemirror_mode": {
        "name": "ipython",
        "version": 3
      },
      "file_extension": ".py",
      "mimetype": "text/x-python",
      "name": "python",
      "nbconvert_exporter": "python",
      "pygments_lexer": "ipython3",
      "version": "3.9.12"
    },
    "colab": {
      "provenance": []
    }
  },
  "nbformat": 4,
  "nbformat_minor": 0
}